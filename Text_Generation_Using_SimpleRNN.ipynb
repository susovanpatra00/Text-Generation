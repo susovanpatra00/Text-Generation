{
  "nbformat": 4,
  "nbformat_minor": 0,
  "metadata": {
    "colab": {
      "provenance": [],
      "gpuType": "T4"
    },
    "kernelspec": {
      "name": "python3",
      "display_name": "Python 3"
    },
    "language_info": {
      "name": "python"
    },
    "accelerator": "GPU"
  },
  "cells": [
    {
      "cell_type": "code",
      "execution_count": 2,
      "metadata": {
        "id": "ua7Bb-1lSRtB"
      },
      "outputs": [],
      "source": [
        "import numpy as np\n",
        "import pandas as pd\n",
        "import tensorflow as tf\n",
        "from tensorflow.keras.models import Sequential\n",
        "from tensorflow.keras.layers import LSTM, Dense, Dropout, Input\n",
        "from tensorflow.keras.callbacks import ModelCheckpoint\n",
        "from tensorflow.keras.utils import to_categorical\n",
        "import sys"
      ]
    },
    {
      "cell_type": "code",
      "source": [
        "raw_text = open(file='Book.txt', mode= 'r', encoding='utf-8').read()\n",
        "raw_text = raw_text.lower()"
      ],
      "metadata": {
        "id": "NmCm1PsVSXoA"
      },
      "execution_count": 3,
      "outputs": []
    },
    {
      "cell_type": "code",
      "source": [
        "print(f\"Total Characters In The Book Is: {len(raw_text)}\")"
      ],
      "metadata": {
        "colab": {
          "base_uri": "https://localhost:8080/"
        },
        "id": "3cH7oj73Sp_0",
        "outputId": "3f1aa6c4-c097-43b6-a49e-8d2045f38de1"
      },
      "execution_count": 4,
      "outputs": [
        {
          "output_type": "stream",
          "name": "stdout",
          "text": [
            "Total Characters In The Book Is: 163918\n"
          ]
        }
      ]
    },
    {
      "cell_type": "code",
      "source": [
        "chars_to_remove = {\"\\n\", \"!\", \"#\", \"$\", \"%\", \"'\", \"(\", \")\", \"*\", \"+\", \",\", \"-\", \".\", \"/\", \":\", \";\", \"<\", \"=\", \">\", \"?\", \"@\", \"[\", \"\\\\\", \"]\", \"^\", \"_\", \"`\", \"{\", \"|\", \"}\", \"~\", \"ù\", \"•\", \"™\", \"\\ufeff\"}\n",
        "\n",
        "def clean_text(text, chars_to_remove):\n",
        "  return ''.join(c for c in text if c not in chars_to_remove)\n",
        "\n",
        "raw_text = clean_text(raw_text, chars_to_remove)\n",
        "\n",
        "print(f\"Total Characters In The Book Is: {len(raw_text)}\")"
      ],
      "metadata": {
        "colab": {
          "base_uri": "https://localhost:8080/"
        },
        "id": "O4svSESMVuhe",
        "outputId": "0635a7be-a820-4efb-825a-2a1d8553d086"
      },
      "execution_count": 5,
      "outputs": [
        {
          "output_type": "stream",
          "name": "stdout",
          "text": [
            "Total Characters In The Book Is: 154374\n"
          ]
        }
      ]
    },
    {
      "cell_type": "code",
      "source": [
        "chars = sorted(list(set(raw_text)))\n",
        "print(f\"Total No. Of Unique Characters Are: {len(chars)}\")"
      ],
      "metadata": {
        "colab": {
          "base_uri": "https://localhost:8080/"
        },
        "id": "pk2xbttgSsTV",
        "outputId": "3e780d8e-e74a-4079-a148-fc785fa327d4"
      },
      "execution_count": 6,
      "outputs": [
        {
          "output_type": "stream",
          "name": "stdout",
          "text": [
            "Total No. Of Unique Characters Are: 42\n"
          ]
        }
      ]
    },
    {
      "cell_type": "code",
      "source": [
        "char_to_int = dict((c, i) for i, c in enumerate(chars))\n",
        "print(\"Characters With Their Integer Values:\", char_to_int)"
      ],
      "metadata": {
        "colab": {
          "base_uri": "https://localhost:8080/"
        },
        "id": "qDIWRNyDSuwf",
        "outputId": "c680ec92-3816-4859-8f8b-83bb22390087"
      },
      "execution_count": 7,
      "outputs": [
        {
          "output_type": "stream",
          "name": "stdout",
          "text": [
            "Characters With Their Integer Values: {' ': 0, '0': 1, '1': 2, '2': 3, '3': 4, '4': 5, '5': 6, '6': 7, '7': 8, '8': 9, '9': 10, 'a': 11, 'b': 12, 'c': 13, 'd': 14, 'e': 15, 'f': 16, 'g': 17, 'h': 18, 'i': 19, 'j': 20, 'k': 21, 'l': 22, 'm': 23, 'n': 24, 'o': 25, 'p': 26, 'q': 27, 'r': 28, 's': 29, 't': 30, 'u': 31, 'v': 32, 'w': 33, 'x': 34, 'y': 35, 'z': 36, '—': 37, '‘': 38, '’': 39, '“': 40, '”': 41}\n"
          ]
        }
      ]
    },
    {
      "cell_type": "code",
      "source": [
        "n_chars = len(raw_text)\n",
        "n_vocab = len(chars)\n",
        "print(\"Total Characters: \", n_chars)\n",
        "print (\"Total Vocab: \", n_vocab)"
      ],
      "metadata": {
        "colab": {
          "base_uri": "https://localhost:8080/"
        },
        "id": "_SRT2NtKSwyE",
        "outputId": "60a945e2-bb8d-4e42-e1c8-0dbda3b29241"
      },
      "execution_count": 8,
      "outputs": [
        {
          "output_type": "stream",
          "name": "stdout",
          "text": [
            "Total Characters:  154374\n",
            "Total Vocab:  42\n"
          ]
        }
      ]
    },
    {
      "cell_type": "code",
      "source": [
        "seq_length = 100\n",
        "\n",
        "dataX = []\n",
        "dataY = []"
      ],
      "metadata": {
        "id": "A2lcABeISy7R"
      },
      "execution_count": 9,
      "outputs": []
    },
    {
      "cell_type": "code",
      "source": [
        "for i in range(0, n_chars - seq_length, 1):\n",
        "    seq_in = raw_text[i : i + seq_length]\n",
        "    seq_out = raw_text[i + seq_length]\n",
        "    dataX.append([char_to_int[char] for char in seq_in])\n",
        "    dataY.append([char_to_int[seq_out]])\n",
        "\n",
        "\n",
        "print(f\"Total Patterns: {len(dataX)}\")"
      ],
      "metadata": {
        "colab": {
          "base_uri": "https://localhost:8080/"
        },
        "id": "0Um5W5t-S08T",
        "outputId": "a788ef9c-f932-4bfe-c902-ceca9156a8b0"
      },
      "execution_count": 10,
      "outputs": [
        {
          "output_type": "stream",
          "name": "stdout",
          "text": [
            "Total Patterns: 154274\n"
          ]
        }
      ]
    },
    {
      "cell_type": "code",
      "source": [
        "X = np.reshape(dataX, [len(dataX), seq_length, 1])\n",
        "\n",
        "# Normalisation\n",
        "X = X / float(n_vocab)\n",
        "\n",
        "\n",
        "y = to_categorical(dataY)"
      ],
      "metadata": {
        "id": "HaN30I2uS2d_"
      },
      "execution_count": 11,
      "outputs": []
    },
    {
      "cell_type": "code",
      "source": [
        "print(f\"The X Shape is: {X.shape}\")\n",
        "print(f\"The y Shape is: {y.shape}\")"
      ],
      "metadata": {
        "colab": {
          "base_uri": "https://localhost:8080/"
        },
        "id": "78jvg9tyS5iH",
        "outputId": "ebf431b4-1869-43fe-96d5-421c1ae0d30c"
      },
      "execution_count": 12,
      "outputs": [
        {
          "output_type": "stream",
          "name": "stdout",
          "text": [
            "The X Shape is: (154274, 100, 1)\n",
            "The y Shape is: (154274, 42)\n"
          ]
        }
      ]
    },
    {
      "cell_type": "code",
      "source": [
        "model = Sequential()\n",
        "model.add(Input(shape=(X.shape[1], X.shape[2])))\n",
        "model.add(LSTM(units=256, return_sequences= True))\n",
        "model.add(Dropout(0.2))\n",
        "model.add(LSTM(units=256))\n",
        "model.add(Dropout(0.2))\n",
        "model.add(Dense(units=y.shape[1], activation='softmax'))\n",
        "model.compile(loss='categorical_crossentropy', optimizer='adam')"
      ],
      "metadata": {
        "id": "NnML6ZjMS8ZW"
      },
      "execution_count": 13,
      "outputs": []
    },
    {
      "cell_type": "code",
      "source": [
        "filepath=\"Checkpoints/weights-improvement-{epoch:02d}-{loss:.4f}.keras\"\n",
        "checkpoint = ModelCheckpoint(filepath, monitor='loss', verbose=1, save_best_only=True, mode='min')\n",
        "callbacks_list = [checkpoint]"
      ],
      "metadata": {
        "id": "qCyhvjIFS-oU"
      },
      "execution_count": 14,
      "outputs": []
    },
    {
      "cell_type": "code",
      "source": [
        "model.fit(X, y, epochs=20, batch_size=64, callbacks=callbacks_list)"
      ],
      "metadata": {
        "colab": {
          "base_uri": "https://localhost:8080/"
        },
        "id": "LuaBENfXTAiH",
        "outputId": "8f8dee02-8ced-4957-eb68-a92aea6a2dd2"
      },
      "execution_count": 15,
      "outputs": [
        {
          "output_type": "stream",
          "name": "stdout",
          "text": [
            "Epoch 1/20\n",
            "2411/2411 [==============================] - ETA: 0s - loss: 2.7525\n",
            "Epoch 1: loss improved from inf to 2.75248, saving model to Checkpoints/weights-improvement-01-2.7525.keras\n",
            "2411/2411 [==============================] - 50s 18ms/step - loss: 2.7525\n",
            "Epoch 2/20\n",
            "2409/2411 [============================>.] - ETA: 0s - loss: 2.4204\n",
            "Epoch 2: loss improved from 2.75248 to 2.42028, saving model to Checkpoints/weights-improvement-02-2.4203.keras\n",
            "2411/2411 [==============================] - 45s 19ms/step - loss: 2.4203\n",
            "Epoch 3/20\n",
            "2409/2411 [============================>.] - ETA: 0s - loss: 2.2150\n",
            "Epoch 3: loss improved from 2.42028 to 2.21483, saving model to Checkpoints/weights-improvement-03-2.2148.keras\n",
            "2411/2411 [==============================] - 45s 19ms/step - loss: 2.2148\n",
            "Epoch 4/20\n",
            "2409/2411 [============================>.] - ETA: 0s - loss: 2.0776\n",
            "Epoch 4: loss improved from 2.21483 to 2.07757, saving model to Checkpoints/weights-improvement-04-2.0776.keras\n",
            "2411/2411 [==============================] - 45s 19ms/step - loss: 2.0776\n",
            "Epoch 5/20\n",
            "2410/2411 [============================>.] - ETA: 0s - loss: 1.9757\n",
            "Epoch 5: loss improved from 2.07757 to 1.97574, saving model to Checkpoints/weights-improvement-05-1.9757.keras\n",
            "2411/2411 [==============================] - 46s 19ms/step - loss: 1.9757\n",
            "Epoch 6/20\n",
            "2410/2411 [============================>.] - ETA: 0s - loss: 1.9036\n",
            "Epoch 6: loss improved from 1.97574 to 1.90366, saving model to Checkpoints/weights-improvement-06-1.9037.keras\n",
            "2411/2411 [==============================] - 46s 19ms/step - loss: 1.9037\n",
            "Epoch 7/20\n",
            "2409/2411 [============================>.] - ETA: 0s - loss: 1.8431\n",
            "Epoch 7: loss improved from 1.90366 to 1.84313, saving model to Checkpoints/weights-improvement-07-1.8431.keras\n",
            "2411/2411 [==============================] - 45s 19ms/step - loss: 1.8431\n",
            "Epoch 8/20\n",
            "2410/2411 [============================>.] - ETA: 0s - loss: 1.7909\n",
            "Epoch 8: loss improved from 1.84313 to 1.79085, saving model to Checkpoints/weights-improvement-08-1.7909.keras\n",
            "2411/2411 [==============================] - 45s 19ms/step - loss: 1.7909\n",
            "Epoch 9/20\n",
            "2409/2411 [============================>.] - ETA: 0s - loss: 1.7461\n",
            "Epoch 9: loss improved from 1.79085 to 1.74616, saving model to Checkpoints/weights-improvement-09-1.7462.keras\n",
            "2411/2411 [==============================] - 45s 19ms/step - loss: 1.7462\n",
            "Epoch 10/20\n",
            "2410/2411 [============================>.] - ETA: 0s - loss: 1.7015\n",
            "Epoch 10: loss improved from 1.74616 to 1.70155, saving model to Checkpoints/weights-improvement-10-1.7016.keras\n",
            "2411/2411 [==============================] - 45s 19ms/step - loss: 1.7016\n",
            "Epoch 11/20\n",
            "2409/2411 [============================>.] - ETA: 0s - loss: 1.6678\n",
            "Epoch 11: loss improved from 1.70155 to 1.66777, saving model to Checkpoints/weights-improvement-11-1.6678.keras\n",
            "2411/2411 [==============================] - 45s 19ms/step - loss: 1.6678\n",
            "Epoch 12/20\n",
            "2411/2411 [==============================] - ETA: 0s - loss: 1.6360\n",
            "Epoch 12: loss improved from 1.66777 to 1.63600, saving model to Checkpoints/weights-improvement-12-1.6360.keras\n",
            "2411/2411 [==============================] - 45s 19ms/step - loss: 1.6360\n",
            "Epoch 13/20\n",
            "2409/2411 [============================>.] - ETA: 0s - loss: 1.6073\n",
            "Epoch 13: loss improved from 1.63600 to 1.60739, saving model to Checkpoints/weights-improvement-13-1.6074.keras\n",
            "2411/2411 [==============================] - 45s 19ms/step - loss: 1.6074\n",
            "Epoch 14/20\n",
            "2410/2411 [============================>.] - ETA: 0s - loss: 1.5815\n",
            "Epoch 14: loss improved from 1.60739 to 1.58145, saving model to Checkpoints/weights-improvement-14-1.5815.keras\n",
            "2411/2411 [==============================] - 45s 19ms/step - loss: 1.5815\n",
            "Epoch 15/20\n",
            "2410/2411 [============================>.] - ETA: 0s - loss: 1.5615\n",
            "Epoch 15: loss improved from 1.58145 to 1.56154, saving model to Checkpoints/weights-improvement-15-1.5615.keras\n",
            "2411/2411 [==============================] - 45s 19ms/step - loss: 1.5615\n",
            "Epoch 16/20\n",
            "2410/2411 [============================>.] - ETA: 0s - loss: 1.5364\n",
            "Epoch 16: loss improved from 1.56154 to 1.53642, saving model to Checkpoints/weights-improvement-16-1.5364.keras\n",
            "2411/2411 [==============================] - 45s 19ms/step - loss: 1.5364\n",
            "Epoch 17/20\n",
            "2410/2411 [============================>.] - ETA: 0s - loss: 1.5150\n",
            "Epoch 17: loss improved from 1.53642 to 1.51493, saving model to Checkpoints/weights-improvement-17-1.5149.keras\n",
            "2411/2411 [==============================] - 45s 19ms/step - loss: 1.5149\n",
            "Epoch 18/20\n",
            "2410/2411 [============================>.] - ETA: 0s - loss: 1.4978\n",
            "Epoch 18: loss improved from 1.51493 to 1.49783, saving model to Checkpoints/weights-improvement-18-1.4978.keras\n",
            "2411/2411 [==============================] - 45s 19ms/step - loss: 1.4978\n",
            "Epoch 19/20\n",
            "2410/2411 [============================>.] - ETA: 0s - loss: 1.4804\n",
            "Epoch 19: loss improved from 1.49783 to 1.48042, saving model to Checkpoints/weights-improvement-19-1.4804.keras\n",
            "2411/2411 [==============================] - 45s 19ms/step - loss: 1.4804\n",
            "Epoch 20/20\n",
            "2410/2411 [============================>.] - ETA: 0s - loss: 1.4677\n",
            "Epoch 20: loss improved from 1.48042 to 1.46776, saving model to Checkpoints/weights-improvement-20-1.4678.keras\n",
            "2411/2411 [==============================] - 45s 19ms/step - loss: 1.4678\n"
          ]
        },
        {
          "output_type": "execute_result",
          "data": {
            "text/plain": [
              "<keras.src.callbacks.History at 0x780a96e0eb00>"
            ]
          },
          "metadata": {},
          "execution_count": 15
        }
      ]
    },
    {
      "cell_type": "code",
      "source": [
        "!zip -r /content/file.zip /content/Checkpoints"
      ],
      "metadata": {
        "id": "tAS08RG903Ks",
        "outputId": "5d47888a-a80a-4063-b195-c2b859b98434",
        "colab": {
          "base_uri": "https://localhost:8080/"
        }
      },
      "execution_count": 16,
      "outputs": [
        {
          "output_type": "stream",
          "name": "stdout",
          "text": [
            "  adding: content/Checkpoints/ (stored 0%)\n",
            "  adding: content/Checkpoints/weights-improvement-17-1.5149.keras (deflated 6%)\n",
            "  adding: content/Checkpoints/weights-improvement-01-2.7525.keras (deflated 7%)\n",
            "  adding: content/Checkpoints/weights-improvement-11-1.6678.keras (deflated 6%)\n",
            "  adding: content/Checkpoints/weights-improvement-18-1.4978.keras (deflated 6%)\n",
            "  adding: content/Checkpoints/weights-improvement-09-1.7462.keras (deflated 6%)\n",
            "  adding: content/Checkpoints/weights-improvement-08-1.7909.keras (deflated 6%)\n",
            "  adding: content/Checkpoints/weights-improvement-15-1.5615.keras (deflated 6%)\n",
            "  adding: content/Checkpoints/weights-improvement-19-1.4804.keras (deflated 6%)\n",
            "  adding: content/Checkpoints/weights-improvement-12-1.6360.keras (deflated 6%)\n",
            "  adding: content/Checkpoints/weights-improvement-03-2.2148.keras (deflated 6%)\n",
            "  adding: content/Checkpoints/weights-improvement-02-2.4203.keras (deflated 6%)\n",
            "  adding: content/Checkpoints/weights-improvement-13-1.6074.keras (deflated 6%)\n",
            "  adding: content/Checkpoints/weights-improvement-07-1.8431.keras (deflated 6%)\n",
            "  adding: content/Checkpoints/weights-improvement-04-2.0776.keras (deflated 6%)\n",
            "  adding: content/Checkpoints/weights-improvement-10-1.7016.keras (deflated 6%)\n",
            "  adding: content/Checkpoints/weights-improvement-05-1.9757.keras (deflated 6%)\n",
            "  adding: content/Checkpoints/weights-improvement-06-1.9037.keras (deflated 6%)\n",
            "  adding: content/Checkpoints/weights-improvement-14-1.5815.keras (deflated 6%)\n",
            "  adding: content/Checkpoints/weights-improvement-16-1.5364.keras (deflated 6%)\n",
            "  adding: content/Checkpoints/weights-improvement-20-1.4678.keras (deflated 6%)\n"
          ]
        }
      ]
    },
    {
      "cell_type": "code",
      "source": [
        "# load the network weights\n",
        "filename = \"Checkpoints/weights-improvement-20-1.4678.keras\"\n",
        "model.load_weights(filename)\n",
        "model.compile(loss='categorical_crossentropy', optimizer='adam')"
      ],
      "metadata": {
        "id": "yqAZnw-pTDMX"
      },
      "execution_count": 17,
      "outputs": []
    },
    {
      "cell_type": "code",
      "source": [
        "int_to_char = dict((i, c) for i, c in enumerate(chars))"
      ],
      "metadata": {
        "id": "5A7j8gAKUtU6"
      },
      "execution_count": 18,
      "outputs": []
    },
    {
      "cell_type": "code",
      "source": [
        "# pick a random seed\n",
        "start = np.random.randint(0, len(dataX)-1)\n",
        "pattern = dataX[start]\n",
        "print(\"Seed:\")\n",
        "print(\"\\\"\", ''.join([int_to_char[value] for value in pattern]), \"\\\"\")\n",
        "# generate characters\n",
        "for i in range(200):\n",
        " x = np.reshape(pattern, (1, len(pattern), 1))\n",
        " x = x / float(n_vocab)\n",
        " prediction = model.predict(x, verbose=0)\n",
        " index = np.argmax(prediction)\n",
        " result = int_to_char[index]\n",
        " seq_in = [int_to_char[value] for value in pattern]\n",
        " sys.stdout.write(result)\n",
        " pattern.append(index)\n",
        " pattern = pattern[1:len(pattern)]\n",
        "print(\"\\nDone.\")"
      ],
      "metadata": {
        "colab": {
          "base_uri": "https://localhost:8080/"
        },
        "id": "zJiklQUpUyZu",
        "outputId": "9d379504-6fc2-4b57-c73f-da816d2df31d"
      },
      "execution_count": 21,
      "outputs": [
        {
          "output_type": "stream",
          "name": "stdout",
          "text": [
            "Seed:\n",
            "\"  wwwgutenbergorgdonatesection 5 general information about project gutenberg electronic worksprofesso \"\n",
            "r crmien in the project gutenberg license and the project gutenberg license and the project gutenberg license and the project gutenberg license and the project gutenberg license and the project gutenb\n",
            "Done.\n"
          ]
        }
      ]
    },
    {
      "cell_type": "code",
      "source": [],
      "metadata": {
        "id": "77-f90nuU4lU"
      },
      "execution_count": null,
      "outputs": []
    }
  ]
}